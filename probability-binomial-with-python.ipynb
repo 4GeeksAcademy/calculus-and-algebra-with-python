{
  "cells": [
    {
      "attachments": {},
      "cell_type": "markdown",
      "metadata": {
        "id": "8LjUD8x0AGuh"
      },
      "source": [
        "### Origin in Games\n",
        "\n",
        "Many historians of probability note the emergence of a theory of probability as linked to humans attempts to understand games of chance. We begin with an early example called Senet that is at least as old as the year 3000 BC. Here, players' moves are decided by dropping 4 paddles with two colored faces. The players are allowed to move based on the number of colored paddles that are facing up. Our goal is to explore the likely outcomes of the drops to begin to understand probability.\n",
        "\n",
        "\n",
        "<center>\n",
        "    <img src=https://upload.wikimedia.org/wikipedia/commons/thumb/0/0d/Gaming_Board_Inscribed_for_Amenhotep_III_with_Separate_Sliding_Drawer%2C_ca._1390-1353_B.C.E.%2C49.56a-b.jpg/520px-Gaming_Board_Inscribed_for_Amenhotep_III_with_Separate_Sliding_Drawer%2C_ca._1390-1353_B.C.E.%2C49.56a-b.jpg width=50% alt=\"Board Game, Senet\"/>\n",
        "</center>"
      ]
    },
    {
      "attachments": {},
      "cell_type": "markdown",
      "metadata": {
        "id": "IOUJw0bLAGuh"
      },
      "source": [
        "**PROBLEM**\n",
        "\n",
        "The table below begins to explore these possible combinations. We will look at further examples with more possible combinations, but this will get us started.\n",
        "\n",
        "| Sticks | # Ways to get 0 white | 1 white | 2 white | 3 white | 4 white | 5 white |\n",
        "| ------  | ------  | ------  | ------  | ------  | ------  | ------  |\n",
        "| 1 | 1 | 1 | na | na | na | na |\n",
        "| 2 | 1 | 2 | 1 | na | na | na |\n",
        "| 3 | 1 | 3 | 3 | 1 | na | na |\n",
        "| 4 | 1 | 4 | 6  | 4 | 1 | na |\n",
        "| 5 | ? | ? | ?  | ? | ? | ? |\n",
        "| 6 | ? | ? | ?  | ? | ? | ? |"
      ]
    },
    {
      "attachments": {},
      "cell_type": "markdown",
      "metadata": {
        "id": "HTzcaeuQAGuh"
      },
      "source": [
        "### Binomial Distribution\n",
        "\n",
        "The problem above is one example of a more general kind of distribution of events. We have 4 two-sided sticks, and we will treat these as 4 Bernoulli Trials. To determine the probability of an outcome, we must:\n",
        "\n",
        "- Count how many ways there are for this specific outcome to occur.\n",
        "- Multiply this by the probability of successes and failures.\n",
        "\n",
        "As a function, we would have inputs that determine the outcome (success or failure, red or white, heads or tails, etc.), the number of successes and failures, and the probability of a success. Below we have the functional form:\n",
        "\n",
        "$$f(k, n, p) = \\Pr(k;n,p)=\\Pr(X=k)={\\binom {n}{k}}p^{k}(1-p)^{n-k}$$\n",
        "\n",
        "\n",
        "We unpack this as follows:\n",
        "\n",
        "- $\\binom {n}{k}$ counts the number of ways an outcome can occur. For example, $\\binom{4}{2}$ could be interpreted as how many ways there are to get two white sticks from four total.\n",
        "- $p^k$ is the probability of a success to the power of the number of successes. For example $\\frac{1}{2}^2$ would be interpreted as the probability of getting a white stick twice.\n",
        "- $(1 - p)^k$ is the probability of a failure $n-k$ times. For example $(1 - \\frac{1}{2})^2$ can be interpreted as the probability of a black stick two out of four attempts."
      ]
    },
    {
      "attachments": {},
      "cell_type": "markdown",
      "metadata": {
        "id": "hzd3J1owAGui"
      },
      "source": [
        "### Using the computer"
      ]
    },
    {
      "cell_type": "code",
      "execution_count": null,
      "metadata": {
        "id": "BRjfikMeAGui"
      },
      "outputs": [],
      "source": [
        "from scipy.special import comb"
      ]
    },
    {
      "cell_type": "code",
      "execution_count": null,
      "metadata": {
        "colab": {
          "base_uri": "https://localhost:8080/"
        },
        "id": "9x7dblDbAGui",
        "outputId": "a8e501b7-05e8-4ee3-dd85-c44d8ed713a9"
      },
      "outputs": [
        {
          "data": {
            "text/plain": [
              "6.0"
            ]
          },
          "execution_count": 27,
          "metadata": {
            "tags": []
          },
          "output_type": "execute_result"
        }
      ],
      "source": [
        "# Ways to pick 2 things from 4\n",
        "comb(4, 2)"
      ]
    },
    {
      "cell_type": "code",
      "execution_count": null,
      "metadata": {
        "colab": {
          "base_uri": "https://localhost:8080/"
        },
        "id": "enG_SZLFAGui",
        "outputId": "3d0ddde2-d213-44b5-ae0c-bc1c81e76323"
      },
      "outputs": [
        {
          "data": {
            "text/plain": [
              "0.25"
            ]
          },
          "execution_count": 28,
          "metadata": {
            "tags": []
          },
          "output_type": "execute_result"
        }
      ],
      "source": [
        "# Probability of success to the number of successes\n",
        "(1/2)**2"
      ]
    },
    {
      "cell_type": "code",
      "execution_count": null,
      "metadata": {
        "colab": {
          "base_uri": "https://localhost:8080/"
        },
        "id": "hJa5UBSBAGui",
        "outputId": "11597129-b47f-4f3b-a129-12b24800182c"
      },
      "outputs": [
        {
          "data": {
            "text/plain": [
              "0.25"
            ]
          },
          "execution_count": 29,
          "metadata": {
            "tags": []
          },
          "output_type": "execute_result"
        }
      ],
      "source": [
        "# Probability of failures to number of failures\n",
        "(1/2)**2"
      ]
    },
    {
      "cell_type": "code",
      "execution_count": null,
      "metadata": {
        "colab": {
          "base_uri": "https://localhost:8080/"
        },
        "id": "64sfPZlhAGui",
        "outputId": "f7ea9737-b86b-46b5-9594-4fbe84eb3114"
      },
      "outputs": [
        {
          "data": {
            "text/plain": [
              "0.375"
            ]
          },
          "execution_count": 30,
          "metadata": {
            "tags": []
          },
          "output_type": "execute_result"
        }
      ],
      "source": [
        "# Put it all together\n",
        "n_choose_k = comb(4, 2)\n",
        "p_to_the_k = (1/2)**2\n",
        "one_minus_p_to_the_n_minus_k = (1/2)**2\n",
        "# Probability of getting 2 white sticks from four\n",
        "n_choose_k*p_to_the_k*one_minus_p_to_the_n_minus_k"
      ]
    },
    {
      "attachments": {},
      "cell_type": "markdown",
      "metadata": {
        "id": "4Ulze-FgAGuj"
      },
      "source": [
        "### Problems\n",
        "\n",
        "Suppose we instead play the game of Senet using 5 sticks.\n",
        "\n",
        "1. How many ways are there to get three white sticks?\n",
        "2. What is the probability that we will get three white sticks?\n",
        "3. Suppose we toss 10 coins. How many different outcomes contain exactly three heads?\n",
        "4. Suppose we toss 20 coins. How many different outcomes contain exactly three heads?\n",
        "5. Complete the next two rows of the table for Senet. Do you recognize a pattern?"
      ]
    }
  ],
  "metadata": {
    "colab": {
      "provenance": []
    },
    "kernelspec": {
      "display_name": "Python 3",
      "language": "python",
      "name": "python3"
    },
    "language_info": {
      "codemirror_mode": {
        "name": "ipython",
        "version": 3
      },
      "file_extension": ".py",
      "mimetype": "text/x-python",
      "name": "python",
      "nbconvert_exporter": "python",
      "pygments_lexer": "ipython3",
      "version": "3.8.2"
    }
  },
  "nbformat": 4,
  "nbformat_minor": 0
}
