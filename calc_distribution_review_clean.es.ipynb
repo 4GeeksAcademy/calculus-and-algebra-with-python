{
  "cells": [
    {
      "attachments": {},
      "cell_type": "markdown",
      "metadata": {
        "id": "77ZMSlFPW4YI"
      },
      "source": [
        "### Repaso de Distribución\n",
        "\n",
        "------\n",
        "**OBJETIVOS**\n",
        "\n",
        "- Repaso Trazado de Funciones\n",
        "- Repaso Combinación de Números\n",
        "- Repaso Distribución Binomial\n",
        "- Repaso Distribución Normal\n",
        "- Repaso Centro y Dispersión de Distribución\n",
        "\n",
        "\n",
        "------"
      ]
    },
    {
      "attachments": {},
      "cell_type": "markdown",
      "metadata": {
        "id": "t8wBEQ-jWyZr"
      },
      "source": [
        "### Graficar Funciones"
      ]
    },
    {
      "cell_type": "code",
      "execution_count": null,
      "metadata": {
        "id": "Cze9M71nXjbl",
        "vscode": {
          "languageId": "python"
        }
      },
      "outputs": [],
      "source": [
        "#importa librerías"
      ]
    },
    {
      "cell_type": "code",
      "execution_count": null,
      "metadata": {
        "id": "MAklJXg2Xk5j",
        "vscode": {
          "languageId": "python"
        }
      },
      "outputs": [],
      "source": [
        "#define una función\n"
      ]
    },
    {
      "cell_type": "code",
      "execution_count": null,
      "metadata": {
        "id": "XXFUapS1Xl_2",
        "vscode": {
          "languageId": "python"
        }
      },
      "outputs": [],
      "source": [
        "#grafica la función\n"
      ]
    },
    {
      "cell_type": "code",
      "execution_count": null,
      "metadata": {
        "id": "narx7w5cXoWU",
        "vscode": {
          "languageId": "python"
        }
      },
      "outputs": [],
      "source": [
        "#raíces cuadradas, trigonométricas, exponenciales y sub-gráficos"
      ]
    },
    {
      "cell_type": "code",
      "execution_count": null,
      "metadata": {
        "id": "0f96H06pX1qr",
        "vscode": {
          "languageId": "python"
        }
      },
      "outputs": [],
      "source": [
        "#tablas de valores\n"
      ]
    },
    {
      "attachments": {},
      "cell_type": "markdown",
      "metadata": {
        "id": "leFR5kdOXsZm"
      },
      "source": [
        "### Combinacón de Números\n",
        "\n",
        "Em matemáticas, una combinación es una selección de items de una colección, de manera tal que el orden de la selección no importa (a diferencia de las permutaciones). Por ejemplo, dadas tres frutas, digamos una manzana, una naranja y una pera; existen tres combinaciones de dos que pueden sacarse de este conjunto: una manzana y una pera, una manzana y una naranja, o una pera y una naranja. Mas formalmente, una combinación k de un conjunto S es un sub-conjunto de k elementos distintos de S. Si el conjunto tiene n elementos, el número de combinaciones k es igual al coeficiente binomial.\n",
        "\n",
        "$$\\displaystyle {\\binom {n}{k}}={\\frac {n(n-1)\\dotsb (n-k+1)}{k(k-1)\\dotsb 1}},$$\n",
        "\n",
        "\n",
        "el cual puede escribirse utilizando factoriales como $\\frac {n!}{k!(n-k)!}$ siempre que $\\displaystyle k\\leq n$, y el cual es cero cuando $ k>n$. El conjunto de todas las combinaciones k de un conjunto S se denota frecuentemente por $\\binom {S}{k}$."
      ]
    },
    {
      "cell_type": "code",
      "execution_count": null,
      "metadata": {
        "id": "8UlmsQqVYY0r",
        "vscode": {
          "languageId": "python"
        }
      },
      "outputs": [],
      "source": [
        "#importa la función combinación\n"
      ]
    },
    {
      "cell_type": "code",
      "execution_count": null,
      "metadata": {
        "id": "D77jDVcuZ1y3",
        "vscode": {
          "languageId": "python"
        }
      },
      "outputs": [],
      "source": [
        "#3 escoge 2\n"
      ]
    },
    {
      "cell_type": "code",
      "execution_count": null,
      "metadata": {
        "id": "X7Jji64sZ4tA",
        "vscode": {
          "languageId": "python"
        }
      },
      "outputs": [],
      "source": [
        "#3 escoge 0, 1, 2, 3\n"
      ]
    },
    {
      "cell_type": "code",
      "execution_count": null,
      "metadata": {
        "id": "FvMXxem3aBAl",
        "vscode": {
          "languageId": "python"
        }
      },
      "outputs": [],
      "source": [
        "#construye el triángulo\n"
      ]
    },
    {
      "cell_type": "code",
      "execution_count": null,
      "metadata": {
        "id": "v6XOYEYjaHMc",
        "vscode": {
          "languageId": "python"
        }
      },
      "outputs": [],
      "source": [
        "#fila 7\n"
      ]
    },
    {
      "cell_type": "code",
      "execution_count": null,
      "metadata": {
        "id": "RAM-MTLDaNNO",
        "vscode": {
          "languageId": "python"
        }
      },
      "outputs": [],
      "source": [
        "#grafica la fila\n"
      ]
    },
    {
      "cell_type": "code",
      "execution_count": null,
      "metadata": {
        "id": "jVrBAVyKa86j",
        "vscode": {
          "languageId": "python"
        }
      },
      "outputs": [],
      "source": [
        "#total\n"
      ]
    },
    {
      "cell_type": "code",
      "execution_count": null,
      "metadata": {
        "id": "ITWBgtu7a97D",
        "vscode": {
          "languageId": "python"
        }
      },
      "outputs": [],
      "source": [
        "#probabilidad de 3 éxitos\n"
      ]
    },
    {
      "cell_type": "code",
      "execution_count": null,
      "metadata": {
        "id": "FS7qvDmsbCYg",
        "vscode": {
          "languageId": "python"
        }
      },
      "outputs": [],
      "source": [
        "#distribución binomial\n",
        "#importar\n"
      ]
    },
    {
      "cell_type": "code",
      "execution_count": null,
      "metadata": {
        "id": "wXOtMWfdbGOR",
        "vscode": {
          "languageId": "python"
        }
      },
      "outputs": [],
      "source": [
        "#ejemplo\n"
      ]
    },
    {
      "attachments": {},
      "cell_type": "markdown",
      "metadata": {
        "id": "AIQY17FWbQDv"
      },
      "source": [
        "### Función de Probabilidad de Masas: Distribución Binomial\n",
        "\n",
        "$$\\displaystyle f(k,n,p)=\\Pr(k;n,p)=\\Pr(X=k)={\\binom {n}{k}}p^{k}(1-p)^{n-k}$$\n",
        "for $k = 0, 1, 2, ..., n$."
      ]
    },
    {
      "cell_type": "code",
      "execution_count": null,
      "metadata": {
        "id": "Brvvb6d4bSQA",
        "vscode": {
          "languageId": "python"
        }
      },
      "outputs": [],
      "source": [
        "#determina la distribución\n",
        "#considera 10 tiros gratis con p = .5\n"
      ]
    },
    {
      "cell_type": "code",
      "execution_count": null,
      "metadata": {
        "id": "G72Mhl4nbZCM",
        "vscode": {
          "languageId": "python"
        }
      },
      "outputs": [],
      "source": [
        "#grafica la probabilidad\n"
      ]
    },
    {
      "cell_type": "code",
      "execution_count": null,
      "metadata": {
        "id": "hwqsJnuMb1WU",
        "vscode": {
          "languageId": "python"
        }
      },
      "outputs": [],
      "source": [
        "#probabilidad de 6 éxitos?\n"
      ]
    },
    {
      "cell_type": "code",
      "execution_count": null,
      "metadata": {
        "id": "GCcbPaRBgjVP",
        "vscode": {
          "languageId": "python"
        }
      },
      "outputs": [],
      "source": [
        "#probabilidad de al menos 6 realizados?\n"
      ]
    },
    {
      "cell_type": "code",
      "execution_count": null,
      "metadata": {
        "id": "p42pAelnh94V",
        "vscode": {
          "languageId": "python"
        }
      },
      "outputs": [],
      "source": [
        "#con función de distribución acumulativa\n"
      ]
    },
    {
      "cell_type": "code",
      "execution_count": null,
      "metadata": {
        "id": "dNvfNbdSiAiY",
        "vscode": {
          "languageId": "python"
        }
      },
      "outputs": [],
      "source": [
        "#Ejemplo 2: p = 0.8, n = 20\n"
      ]
    },
    {
      "cell_type": "code",
      "execution_count": null,
      "metadata": {
        "id": "B3TlffYZiHbD",
        "vscode": {
          "languageId": "python"
        }
      },
      "outputs": [],
      "source": [
        "#P(10)\n"
      ]
    },
    {
      "cell_type": "code",
      "execution_count": null,
      "metadata": {
        "vscode": {
          "languageId": "python"
        }
      },
      "outputs": [],
      "source": []
    },
    {
      "cell_type": "code",
      "execution_count": null,
      "metadata": {
        "id": "j4lKTQq9iKgS",
        "vscode": {
          "languageId": "python"
        }
      },
      "outputs": [],
      "source": [
        "#P(n > 14)\n"
      ]
    },
    {
      "attachments": {},
      "cell_type": "markdown",
      "metadata": {
        "id": "y36nuoCplKRM"
      },
      "source": [
        "### Media y Desviación Estándar\n",
        "\n",
        "$$\\text{media} = \\mu = \\frac{1}{n}\\sum_{i = 1}^n x_i$$\n",
        "\n",
        "$$\\text{desviación estándar} = \\sigma = \\sqrt{\\frac{1}{n}\\sum_{i = 1}^n (x_i - \\mu)^2}$$"
      ]
    },
    {
      "cell_type": "code",
      "execution_count": null,
      "metadata": {
        "id": "_W3B7Lg0lKDS",
        "vscode": {
          "languageId": "python"
        }
      },
      "outputs": [],
      "source": [
        "#media de una lista\n"
      ]
    },
    {
      "cell_type": "code",
      "execution_count": null,
      "metadata": {
        "id": "F0H2cUZxlJ-i",
        "vscode": {
          "languageId": "python"
        }
      },
      "outputs": [],
      "source": [
        "#desviación estándar de una lista\n"
      ]
    },
    {
      "cell_type": "code",
      "execution_count": null,
      "metadata": {
        "id": "1QLD9HNXlJ4O",
        "vscode": {
          "languageId": "python"
        }
      },
      "outputs": [],
      "source": [
        "#Distribución Binomial con n = 20, p = 0.5\n"
      ]
    },
    {
      "cell_type": "code",
      "execution_count": null,
      "metadata": {
        "id": "N5Wt76YylJ1P",
        "vscode": {
          "languageId": "python"
        }
      },
      "outputs": [],
      "source": [
        "#media\n"
      ]
    },
    {
      "cell_type": "code",
      "execution_count": null,
      "metadata": {
        "id": "PqPK-Ow1lJyD",
        "vscode": {
          "languageId": "python"
        }
      },
      "outputs": [],
      "source": [
        "#gráfico\n"
      ]
    },
    {
      "cell_type": "code",
      "execution_count": null,
      "metadata": {
        "id": "a8KU1n9Mlg6J",
        "vscode": {
          "languageId": "python"
        }
      },
      "outputs": [],
      "source": [
        "#otro ejemplo\n",
        "#Binomial n = 50, p = 0.3\n"
      ]
    },
    {
      "cell_type": "code",
      "execution_count": null,
      "metadata": {
        "id": "jgo80blnmWfR",
        "vscode": {
          "languageId": "python"
        }
      },
      "outputs": [],
      "source": [
        "#media\n"
      ]
    },
    {
      "cell_type": "code",
      "execution_count": null,
      "metadata": {
        "id": "U-ByFeFyuY8E",
        "vscode": {
          "languageId": "python"
        }
      },
      "outputs": [],
      "source": []
    },
    {
      "cell_type": "code",
      "execution_count": null,
      "metadata": {
        "id": "bfy3I2xeubzP",
        "vscode": {
          "languageId": "python"
        }
      },
      "outputs": [],
      "source": []
    },
    {
      "cell_type": "code",
      "execution_count": null,
      "metadata": {
        "id": "9tA96xDxmWZH",
        "vscode": {
          "languageId": "python"
        }
      },
      "outputs": [],
      "source": [
        "#desviación\n"
      ]
    },
    {
      "cell_type": "code",
      "execution_count": null,
      "metadata": {
        "id": "xWSDRiBpmZlP",
        "vscode": {
          "languageId": "python"
        }
      },
      "outputs": [],
      "source": [
        "#gráfica\n"
      ]
    },
    {
      "attachments": {},
      "cell_type": "markdown",
      "metadata": {
        "id": "peORdwxUiPle"
      },
      "source": [
        "### Distribución Normal\n",
        "\n",
        "$${\\displaystyle f(x)={\\frac {1}{\\sigma {\\sqrt {2\\pi }}}}e^{-{\\frac {1}{2}}\\left({\\frac {x-\\mu }{\\sigma }}\\right)^{2}}}\n",
        "$$"
      ]
    },
    {
      "cell_type": "code",
      "execution_count": null,
      "metadata": {
        "id": "xTUHb6_piYjO",
        "vscode": {
          "languageId": "python"
        }
      },
      "outputs": [],
      "source": [
        "#determina la distribución\n",
        "##Altura promedio de 60 pulgadas, s.d 2\n"
      ]
    },
    {
      "cell_type": "code",
      "execution_count": null,
      "metadata": {
        "id": "WmKe-Q1wivoU",
        "vscode": {
          "languageId": "python"
        }
      },
      "outputs": [],
      "source": [
        "#define dominio\n"
      ]
    },
    {
      "cell_type": "code",
      "execution_count": null,
      "metadata": {
        "id": "pQIwOdknjVio",
        "vscode": {
          "languageId": "python"
        }
      },
      "outputs": [],
      "source": [
        "#grafica la distribución\n"
      ]
    },
    {
      "cell_type": "code",
      "execution_count": null,
      "metadata": {
        "id": "MtgYkeu0jXQe",
        "vscode": {
          "languageId": "python"
        }
      },
      "outputs": [],
      "source": [
        "#probabilidad de 65 pulgadas?\n"
      ]
    },
    {
      "cell_type": "code",
      "execution_count": null,
      "metadata": {
        "id": "3c7wj6PUjfzf",
        "vscode": {
          "languageId": "python"
        }
      },
      "outputs": [],
      "source": [
        "#probabilidad menor que 50?\n"
      ]
    }
  ],
  "metadata": {
    "colab": {
      "provenance": []
    },
    "kernelspec": {
      "display_name": "Python 3",
      "name": "python3"
    }
  },
  "nbformat": 4,
  "nbformat_minor": 0
}
