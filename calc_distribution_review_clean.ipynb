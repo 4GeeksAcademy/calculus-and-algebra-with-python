{
  "nbformat": 4,
  "nbformat_minor": 0,
  "metadata": {
    "colab": {
      "provenance": []
    },
    "kernelspec": {
      "name": "python3",
      "display_name": "Python 3"
    }
  },
  "cells": [
    {
      "cell_type": "markdown",
      "metadata": {
        "id": "77ZMSlFPW4YI"
      },
      "source": [
        "### Distribution Review \n",
        "\n",
        "------\n",
        "**OBJECTIVES**\n",
        "\n",
        "- Review Plotting Functions\n",
        "- Review Combination Numbers\n",
        "- Review Binomial Distribution\n",
        "- Review Normal Distribution\n",
        "- Review center and spread of distribution\n",
        "\n",
        "\n",
        "------"
      ]
    },
    {
      "cell_type": "markdown",
      "metadata": {
        "id": "t8wBEQ-jWyZr"
      },
      "source": [
        "### Plotting Functions"
      ]
    },
    {
      "cell_type": "code",
      "metadata": {
        "id": "Cze9M71nXjbl"
      },
      "source": [
        "#import libraries\n"
      ],
      "execution_count": null,
      "outputs": []
    },
    {
      "cell_type": "code",
      "metadata": {
        "id": "MAklJXg2Xk5j"
      },
      "source": [
        "#define a function\n"
      ],
      "execution_count": null,
      "outputs": []
    },
    {
      "cell_type": "code",
      "metadata": {
        "id": "XXFUapS1Xl_2"
      },
      "source": [
        "#plot the function\n"
      ],
      "execution_count": null,
      "outputs": []
    },
    {
      "cell_type": "code",
      "metadata": {
        "id": "narx7w5cXoWU"
      },
      "source": [
        "#square roots, trigonometric, exponential, and subplots\n"
      ],
      "execution_count": null,
      "outputs": []
    },
    {
      "cell_type": "code",
      "metadata": {
        "id": "0f96H06pX1qr"
      },
      "source": [
        "#tables of values\n"
      ],
      "execution_count": null,
      "outputs": []
    },
    {
      "cell_type": "markdown",
      "metadata": {
        "id": "leFR5kdOXsZm"
      },
      "source": [
        "### Combination Numbers\n",
        "\n",
        "In mathematics, a combination is a selection of items from a collection, such that the order of selection does not matter (unlike permutations). For example, given three fruits, say an apple, an orange and a pear, there are three combinations of two that can be drawn from this set: an apple and a pear; an apple and an orange; or a pear and an orange. More formally, a k-combination of a set S is a subset of k distinct elements of S. If the set has n elements, the number of k-combinations is equal to the binomial coefficient\n",
        "\n",
        "$$\\displaystyle {\\binom {n}{k}}={\\frac {n(n-1)\\dotsb (n-k+1)}{k(k-1)\\dotsb 1}},$$\n",
        "\n",
        "\n",
        "which can be written using factorials as $\\frac {n!}{k!(n-k)!}$ whenever $\\displaystyle k\\leq n$, and which is zero when $ k>n$. The set of all k-combinations of a set S is often denoted by $\\binom {S}{k}$."
      ]
    },
    {
      "cell_type": "code",
      "metadata": {
        "id": "8UlmsQqVYY0r"
      },
      "source": [
        "#import combination function\n"
      ],
      "execution_count": null,
      "outputs": []
    },
    {
      "cell_type": "code",
      "metadata": {
        "id": "D77jDVcuZ1y3"
      },
      "source": [
        "#3 choose 2\n"
      ],
      "execution_count": null,
      "outputs": []
    },
    {
      "cell_type": "code",
      "metadata": {
        "id": "X7Jji64sZ4tA"
      },
      "source": [
        "#3 choose 0, 1, 2, 3\n"
      ],
      "execution_count": null,
      "outputs": []
    },
    {
      "cell_type": "code",
      "metadata": {
        "id": "FvMXxem3aBAl"
      },
      "source": [
        "#build the triangle\n"
      ],
      "execution_count": null,
      "outputs": []
    },
    {
      "cell_type": "code",
      "metadata": {
        "id": "v6XOYEYjaHMc"
      },
      "source": [
        "#row 7\n"
      ],
      "execution_count": null,
      "outputs": []
    },
    {
      "cell_type": "code",
      "metadata": {
        "id": "RAM-MTLDaNNO"
      },
      "source": [
        "#plot the row\n"
      ],
      "execution_count": null,
      "outputs": []
    },
    {
      "cell_type": "code",
      "metadata": {
        "id": "jVrBAVyKa86j"
      },
      "source": [
        "#total\n"
      ],
      "execution_count": null,
      "outputs": []
    },
    {
      "cell_type": "code",
      "metadata": {
        "id": "ITWBgtu7a97D"
      },
      "source": [
        "#probability of 3 successes\n"
      ],
      "execution_count": null,
      "outputs": []
    },
    {
      "cell_type": "code",
      "metadata": {
        "id": "FS7qvDmsbCYg"
      },
      "source": [
        "#binomial distribution\n",
        "#import \n"
      ],
      "execution_count": null,
      "outputs": []
    },
    {
      "cell_type": "code",
      "metadata": {
        "id": "wXOtMWfdbGOR"
      },
      "source": [
        "#example\n"
      ],
      "execution_count": null,
      "outputs": []
    },
    {
      "cell_type": "markdown",
      "metadata": {
        "id": "AIQY17FWbQDv"
      },
      "source": [
        "### Probability Mass Function: Binomial Distribution\n",
        "\n",
        "$$\\displaystyle f(k,n,p)=\\Pr(k;n,p)=\\Pr(X=k)={\\binom {n}{k}}p^{k}(1-p)^{n-k}$$\n",
        "for $k = 0, 1, 2, ..., n$."
      ]
    },
    {
      "cell_type": "code",
      "metadata": {
        "id": "Brvvb6d4bSQA"
      },
      "source": [
        "#determine distribution\n",
        "#consider 10 free throw attempts with p = .5\n"
      ],
      "execution_count": null,
      "outputs": []
    },
    {
      "cell_type": "code",
      "metadata": {
        "id": "G72Mhl4nbZCM"
      },
      "source": [
        "#plot probability\n"
      ],
      "execution_count": null,
      "outputs": []
    },
    {
      "cell_type": "code",
      "metadata": {
        "id": "hwqsJnuMb1WU"
      },
      "source": [
        "#probability of 6 successes?\n"
      ],
      "execution_count": null,
      "outputs": []
    },
    {
      "cell_type": "code",
      "metadata": {
        "id": "GCcbPaRBgjVP"
      },
      "source": [
        "#probability of at least 6 made?\n"
      ],
      "execution_count": null,
      "outputs": []
    },
    {
      "cell_type": "code",
      "metadata": {
        "id": "p42pAelnh94V"
      },
      "source": [
        "#with cumulative distribution function\n"
      ],
      "execution_count": null,
      "outputs": []
    },
    {
      "cell_type": "code",
      "metadata": {
        "id": "dNvfNbdSiAiY"
      },
      "source": [
        "#Example 2: p = 0.8, n = 20\n"
      ],
      "execution_count": null,
      "outputs": []
    },
    {
      "cell_type": "code",
      "metadata": {
        "id": "B3TlffYZiHbD"
      },
      "source": [
        "#P(10)\n"
      ],
      "execution_count": null,
      "outputs": []
    },
    {
      "cell_type": "code",
      "metadata": {
        "id": "mEPCAKicsxKm"
      },
      "source": [],
      "execution_count": null,
      "outputs": []
    },
    {
      "cell_type": "code",
      "metadata": {
        "id": "j4lKTQq9iKgS"
      },
      "source": [
        "#P(n > 14)\n"
      ],
      "execution_count": null,
      "outputs": []
    },
    {
      "cell_type": "markdown",
      "metadata": {
        "id": "y36nuoCplKRM"
      },
      "source": [
        "### Mean and Standard Deviation\n",
        "\n",
        "$$\\text{mean} = \\mu = \\frac{1}{n}\\sum_{i = 1}^n x_i$$\n",
        "\n",
        "$$\\text{standard deviation} = \\sigma = \\sqrt{\\frac{1}{n}\\sum_{i = 1}^n (x_i - \\mu)^2}$$"
      ]
    },
    {
      "cell_type": "code",
      "metadata": {
        "id": "_W3B7Lg0lKDS"
      },
      "source": [
        "#mean of a list\n"
      ],
      "execution_count": null,
      "outputs": []
    },
    {
      "cell_type": "code",
      "metadata": {
        "id": "F0H2cUZxlJ-i"
      },
      "source": [
        "#standard deviation of list\n"
      ],
      "execution_count": null,
      "outputs": []
    },
    {
      "cell_type": "code",
      "metadata": {
        "id": "1QLD9HNXlJ4O"
      },
      "source": [
        "#Binomial distribution with n = 20, p = 0.5\n"
      ],
      "execution_count": null,
      "outputs": []
    },
    {
      "cell_type": "code",
      "metadata": {
        "id": "N5Wt76YylJ1P"
      },
      "source": [
        "#mean\n"
      ],
      "execution_count": null,
      "outputs": []
    },
    {
      "cell_type": "code",
      "metadata": {
        "id": "PqPK-Ow1lJyD"
      },
      "source": [
        "#plot\n"
      ],
      "execution_count": null,
      "outputs": []
    },
    {
      "cell_type": "code",
      "metadata": {
        "id": "a8KU1n9Mlg6J"
      },
      "source": [
        "#another example\n",
        "#Binomial n = 50, p = 0.3\n"
      ],
      "execution_count": null,
      "outputs": []
    },
    {
      "cell_type": "code",
      "metadata": {
        "id": "jgo80blnmWfR"
      },
      "source": [
        "#mean\n"
      ],
      "execution_count": null,
      "outputs": []
    },
    {
      "cell_type": "code",
      "metadata": {
        "id": "U-ByFeFyuY8E"
      },
      "source": [],
      "execution_count": null,
      "outputs": []
    },
    {
      "cell_type": "code",
      "metadata": {
        "id": "bfy3I2xeubzP"
      },
      "source": [],
      "execution_count": null,
      "outputs": []
    },
    {
      "cell_type": "code",
      "metadata": {
        "id": "9tA96xDxmWZH"
      },
      "source": [
        "#deviation\n"
      ],
      "execution_count": null,
      "outputs": []
    },
    {
      "cell_type": "code",
      "metadata": {
        "id": "xWSDRiBpmZlP"
      },
      "source": [
        "#plot\n"
      ],
      "execution_count": null,
      "outputs": []
    },
    {
      "cell_type": "markdown",
      "metadata": {
        "id": "peORdwxUiPle"
      },
      "source": [
        "### Normal Distribution\n",
        "\n",
        "$${\\displaystyle f(x)={\\frac {1}{\\sigma {\\sqrt {2\\pi }}}}e^{-{\\frac {1}{2}}\\left({\\frac {x-\\mu }{\\sigma }}\\right)^{2}}}\n",
        "$$"
      ]
    },
    {
      "cell_type": "code",
      "metadata": {
        "id": "xTUHb6_piYjO"
      },
      "source": [
        "#determine distribution\n",
        "##Average height of 60 inches, s.d 2\n"
      ],
      "execution_count": null,
      "outputs": []
    },
    {
      "cell_type": "code",
      "metadata": {
        "id": "WmKe-Q1wivoU"
      },
      "source": [
        "#define domain\n"
      ],
      "execution_count": null,
      "outputs": []
    },
    {
      "cell_type": "code",
      "metadata": {
        "id": "pQIwOdknjVio"
      },
      "source": [
        "#plot distribution\n"
      ],
      "execution_count": null,
      "outputs": []
    },
    {
      "cell_type": "code",
      "metadata": {
        "id": "MtgYkeu0jXQe"
      },
      "source": [
        "#probability of 65 inches?\n"
      ],
      "execution_count": null,
      "outputs": []
    },
    {
      "cell_type": "code",
      "metadata": {
        "id": "3c7wj6PUjfzf"
      },
      "source": [
        "#probability less than 50?\n"
      ],
      "execution_count": null,
      "outputs": []
    }
  ]
}