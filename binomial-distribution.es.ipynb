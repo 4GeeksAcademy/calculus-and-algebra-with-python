{
  "cells": [
    {
      "attachments": {},
      "cell_type": "markdown",
      "metadata": {
        "id": "AIQY17FWbQDv"
      },
      "source": [
        "### Función de Masa de Probabilidad: Distribución Binominal\n",
        "\n",
        "$$\\displaystyle f(k,n,p)=\\Pr(k;n,p)=\\Pr(X=k)={\\binom {n}{k}}p^{k}(1-p)^{n-k}$$\n",
        "for $k = 0, 1, 2, ..., n$."
      ]
    },
    {
      "cell_type": "code",
      "execution_count": null,
      "metadata": {
        "id": "Brvvb6d4bSQA"
      },
      "outputs": [],
      "source": [
        "#determinar la distribución\n",
        "#considera 10 intentos de tiros libres p = .5\n"
      ]
    },
    {
      "cell_type": "code",
      "execution_count": null,
      "metadata": {
        "id": "G72Mhl4nbZCM"
      },
      "outputs": [],
      "source": [
        "#probabilidad de gráfica\n"
      ]
    },
    {
      "cell_type": "code",
      "execution_count": null,
      "metadata": {
        "id": "hwqsJnuMb1WU"
      },
      "outputs": [],
      "source": [
        "#probabilidad de 6 éxitos?\n"
      ]
    },
    {
      "cell_type": "code",
      "execution_count": null,
      "metadata": {
        "id": "GCcbPaRBgjVP"
      },
      "outputs": [],
      "source": [
        "#probabilidad de al menos 6 hechos?\n"
      ]
    },
    {
      "cell_type": "code",
      "execution_count": null,
      "metadata": {
        "id": "p42pAelnh94V"
      },
      "outputs": [],
      "source": [
        "#con función de distribución acumulada\n"
      ]
    },
    {
      "cell_type": "code",
      "execution_count": null,
      "metadata": {
        "id": "dNvfNbdSiAiY"
      },
      "outputs": [],
      "source": [
        "#Ejemplo 2: p = 0.8, n = 20\n"
      ]
    },
    {
      "cell_type": "code",
      "execution_count": null,
      "metadata": {
        "id": "B3TlffYZiHbD"
      },
      "outputs": [],
      "source": [
        "#P(10)\n"
      ]
    },
    {
      "cell_type": "code",
      "execution_count": null,
      "metadata": {
        "id": "mEPCAKicsxKm"
      },
      "outputs": [],
      "source": []
    },
    {
      "cell_type": "code",
      "execution_count": null,
      "metadata": {
        "id": "j4lKTQq9iKgS"
      },
      "outputs": [],
      "source": [
        "#P(n > 14)\n"
      ]
    }
  ],
  "metadata": {
    "colab": {
      "provenance": []
    },
    "kernelspec": {
      "display_name": "Python 3",
      "name": "python3"
    }
  },
  "nbformat": 4,
  "nbformat_minor": 0
}
