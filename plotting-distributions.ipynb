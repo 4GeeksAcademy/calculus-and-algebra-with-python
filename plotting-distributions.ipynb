{
  "cells": [
    {
      "attachments": {},
      "cell_type": "markdown",
      "metadata": {
        "id": "qVk7QlVRAGuj"
      },
      "source": [
        "### Plotting Distributions\n",
        "\n",
        "The fourth row of our Senet table contained the values:\n",
        "\n",
        "$$1 ~ 4 ~ 6 ~ 4 ~ 1$$\n",
        "\n",
        "We can draw a plot of this, using bars to represent the counts of each outcome."
      ]
    },
    {
      "cell_type": "code",
      "execution_count": null,
      "metadata": {
        "id": "dZCweRSwAGuk"
      },
      "outputs": [],
      "source": [
        "bars = ['no white', 'one white', 'two white', 'three white', 'four white']\n",
        "counts = [1, 4, 6, 4, 1]"
      ]
    },
    {
      "cell_type": "code",
      "execution_count": null,
      "metadata": {
        "colab": {
          "base_uri": "https://localhost:8080/",
          "height": 281
        },
        "id": "krmqSQl5AGuk",
        "outputId": "401d748d-fbcf-479c-ac57-0a9c99165e0d"
      },
      "outputs": [
        {
          "data": {
            "image/png": "[encoded data removed]",
            "text/plain": [
              "<Figure size 432x288 with 1 Axes>"
            ]
          },
          "metadata": {
            "needs_background": "light",
            "tags": []
          },
          "output_type": "display_data"
        }
      ],
      "source": [
        "plt.bar(bars, counts)\n",
        "plt.title('Counts for each outcome with four two-sided sticks');"
      ]
    },
    {
      "attachments": {},
      "cell_type": "markdown",
      "metadata": {
        "id": "HobSAnYuAGuk"
      },
      "source": [
        "Using this plot, we come back to the problem of determining the probability of a given outcome or outcomes. Here, we can interpret this probability as the relative area of a given bar to the overall count. For example, we consider each bar to have a width of one unit and a height of the count. Thus, we have a total area of:\n",
        "\n",
        "$$\\textbf{TOTAL AREA} = 1 + 4 + 6 + 4 + 1 = 16$$\n",
        "\n",
        "This is the total number of possible outcomes. Thus, determining the probability of a specific outcome is as simple as dividing the total area of our bars by the area under the event of interest.\n",
        "\n",
        "$$P(\\text{two white}) = \\frac{\\text{area of bar for two white}}{\\text{total area}} = \\frac{6}{16}$$"
      ]
    },
    {
      "attachments": {},
      "cell_type": "markdown",
      "metadata": {
        "id": "-HetZHuPAGuk"
      },
      "source": [
        "### Problems\n",
        "\n",
        "1. Use the plot above to determine the probability of zero white sticks.\n",
        "2. Use the plot above to determine the probability of one white stick.\n",
        "3. What is the probability of one, two, *or* three white sticks, and how do we use the graph to determine this?"
      ]
    }
  ],
  "metadata": {
    "colab": {
      "provenance": []
    },
    "kernelspec": {
      "display_name": "Python 3",
      "language": "python",
      "name": "python3"
    },
    "language_info": {
      "codemirror_mode": {
        "name": "ipython",
        "version": 3
      },
      "file_extension": ".py",
      "mimetype": "text/x-python",
      "name": "python",
      "nbconvert_exporter": "python",
      "pygments_lexer": "ipython3",
      "version": "3.8.2"
    }
  },
  "nbformat": 4,
  "nbformat_minor": 0
}
