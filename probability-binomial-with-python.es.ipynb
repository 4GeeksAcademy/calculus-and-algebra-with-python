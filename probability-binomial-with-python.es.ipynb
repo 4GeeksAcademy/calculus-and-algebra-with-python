{
  "cells": [
    {
      "attachments": {},
      "cell_type": "markdown",
      "metadata": {
        "id": "8LjUD8x0AGuh"
      },
      "source": [
        "### Origen en los Juegos \n",
        "\n",
        "Muchos historiadores de probabilidad señalan el surgimiento de una teoría de probabilidad vinculada a intentos humanos para entender juegos de azar. Comenzamos con un ejemplo temprano llamado Senet que es al menos tan antiguo como el año 3000 aC. Aquí, los movimientos de los jugadores se deciden dejando caer 4 paletas con dos caras de colores. Los jugadores pueden moverse según la cantidad de paletas de colores que estén boca arriba. Nuestro objetivo es explorar los resultados probables de las caídas para comenzar a comprender la probabilidad.\n",
        "\n",
        "<center>\n",
        "    <img src = https://upload.wikimedia.org/wikipedia/commons/thumb/0/0d/Gaming_Board_Inscribed_for_Amenhotep_III_with_Separate_Sliding_Drawer%2C_ca._1390-1353_B.C.E.%2C49.56a-b.jpg/520px-Gaming_Board_Inscribed_for_Amenhotep_III_with_Separate_Sliding_Drawer%2C_ca._1390-1353_B.C.E.%2C49.56a-b.jpg width = 50% />\n",
        "</center>"
      ]
    },
    {
      "attachments": {},
      "cell_type": "markdown",
      "metadata": {
        "id": "IOUJw0bLAGuh"
      },
      "source": [
        "**PROBLEMA**\n",
        "\n",
        "La tabla que está a continuación empieza a explorar estas posibles combinaciones. Vamos a ver mas adelante ejemplos con más posibles combinaciones, pero esto nos ayudará a empezar.\n",
        "\n",
        "| Paletas | # Maneras de obtener 0 blancas | 1 blanca | 2 blancas | 3 blancas | 4 blancas | 5 blancas |\n",
        "| ------  | ------  | ------  | ------  | ------  | ------  | ------  |\n",
        "| 1 | 1 | 1 | na | na | na | na |\n",
        "| 2 | 1 | 2 | 1 | na | na | na |\n",
        "| 3 | 1 | 3 | 3 | 1 | na | na |\n",
        "| 4 | 1 | 4 | 6  | 4 | 1 | na |\n",
        "| 5 | ? | ? | ?  | ? | ? | ? |\n",
        "| 6 | ? | ? | ?  | ? | ? | ? |"
      ]
    },
    {
      "attachments": {},
      "cell_type": "markdown",
      "metadata": {
        "id": "HTzcaeuQAGuh"
      },
      "source": [
        "### Distribución binomial\n",
        "\n",
        "El problema anterior es un ejemplo de un tipo más general de distribución de eventos. Tenemos 4 paletas de dos caras y las trataremos como 4 pruebas de Bernoulli. Para determinar la probabilidad de un resultado, debemos:\n",
        "\n",
        "- Contar cuántas maneras hay de que ocurra este resultado específico.\n",
        "- Multiplicar esto por la probabilidad de éxitos y fracasos.\n",
        "\n",
        "Como función, tendríamos entradas que determinan el resultado (éxito o fracaso, rojo o blanco, cara o cruz, etc.), número de éxitos y fracasos, y la probabilidad de un éxito. A continuación tenemos la forma funcional:\n",
        "\n",
        "$$f(k, n, p) = \\Pr(k;n,p)=\\Pr(X=k)={\\binom {n}{k}}p^{k}(1-p)^{n-k}$$\n",
        "\n",
        "Esto se leería de la siguiente manera:\n",
        "\n",
        "- $\\binom {n}{k}$ cuenta el número de formas en que puede ocurrir un resultado. Por ejemplo, $\\binom{4}{2}$ podría interpretarse como cuántas formas hay de obtener dos paletas blancas de cuatro en total.\n",
        "- $p^k$ es la probabilidad de éxito elevada a la cantidad de éxitos. Por ejemplo, $\\frac{1}{2}^2$ se interpretaría como la probabilidad de obtener dos paletas blancas.\n",
        "- $(1 - p)^k$ es la probabilidad de falla $n-k$ veces. Por ejemplo, $(1 - \\frac{1}{2})^2$ se puede interpretar como la probabilidad de obtener una paleta negra en dos de cuatro intentos."
      ]
    },
    {
      "attachments": {},
      "cell_type": "markdown",
      "metadata": {
        "id": "hzd3J1owAGui"
      },
      "source": [
        "### Usando la computadora"
      ]
    },
    {
      "cell_type": "code",
      "execution_count": null,
      "metadata": {
        "id": "BRjfikMeAGui"
      },
      "outputs": [],
      "source": [
        "from scipy.special import comb"
      ]
    },
    {
      "cell_type": "code",
      "execution_count": null,
      "metadata": {
        "colab": {
          "base_uri": "https://localhost:8080/"
        },
        "id": "9x7dblDbAGui",
        "outputId": "a8e501b7-05e8-4ee3-dd85-c44d8ed713a9"
      },
      "outputs": [
        {
          "data": {
            "text/plain": [
              "6.0"
            ]
          },
          "execution_count": 27,
          "metadata": {
            "tags": []
          },
          "output_type": "execute_result"
        }
      ],
      "source": [
        "# Formas de elegir 2 cosas de 4\n",
        "comb(4, 2)"
      ]
    },
    {
      "cell_type": "code",
      "execution_count": null,
      "metadata": {
        "colab": {
          "base_uri": "https://localhost:8080/"
        },
        "id": "enG_SZLFAGui",
        "outputId": "3d0ddde2-d213-44b5-ae0c-bc1c81e76323"
      },
      "outputs": [
        {
          "data": {
            "text/plain": [
              "0.25"
            ]
          },
          "execution_count": 28,
          "metadata": {
            "tags": []
          },
          "output_type": "execute_result"
        }
      ],
      "source": [
        "# Probabilidad de éxito al número de éxitos\n",
        "(1/2)**2"
      ]
    },
    {
      "cell_type": "code",
      "execution_count": null,
      "metadata": {
        "colab": {
          "base_uri": "https://localhost:8080/"
        },
        "id": "hJa5UBSBAGui",
        "outputId": "11597129-b47f-4f3b-a129-12b24800182c"
      },
      "outputs": [
        {
          "data": {
            "text/plain": [
              "0.25"
            ]
          },
          "execution_count": 29,
          "metadata": {
            "tags": []
          },
          "output_type": "execute_result"
        }
      ],
      "source": [
        "# Probabilidad de fallas a número de fallas\n",
        "(1/2)**2"
      ]
    },
    {
      "cell_type": "code",
      "execution_count": null,
      "metadata": {
        "colab": {
          "base_uri": "https://localhost:8080/"
        },
        "id": "64sfPZlhAGui",
        "outputId": "f7ea9737-b86b-46b5-9594-4fbe84eb3114"
      },
      "outputs": [
        {
          "data": {
            "text/plain": [
              "0.375"
            ]
          },
          "execution_count": 30,
          "metadata": {
            "tags": []
          },
          "output_type": "execute_result"
        }
      ],
      "source": [
        "# Ponlo todo junto\n",
        "n_choose_k = comb(4, 2)\n",
        "p_to_the_k = (1/2)**2\n",
        "one_minus_p_to_the_n_minus_k = (1/2)**2\n",
        "# La probabilidad de obtener 2 paletas blancas de cuatro\n",
        "n_choose_k*p_to_the_k*one_minus_p_to_the_n_minus_k"
      ]
    },
    {
      "attachments": {},
      "cell_type": "markdown",
      "metadata": {
        "id": "4Ulze-FgAGuj"
      },
      "source": [
        "### Problemas\n",
        "\n",
        "Supongamos que, en cambio, jugamos el juego de Senet usando 5 paletas.\n",
        "\n",
        "1. ¿De cuántas maneras hay de obtener tres paletas blancas?\n",
        "2. ¿Cuál es la probabilidad de que obtengamos tres paletas blancas?\n",
        "3. Supongamos que lanzamos 10 monedas. ¿Cuántos resultados diferentes contienen exactamente tres caras?\n",
        "4. Supongamos que lanzamos 20 monedas. ¿Cuántos resultados diferentes contienen exactamente tres caras?\n",
        "5. Completa las próximas dos filas de la tabla para Senet. ¿Reconoces un patrón?"
      ]
    }
  ],
  "metadata": {
    "colab": {
      "provenance": []
    },
    "kernelspec": {
      "display_name": "Python 3",
      "language": "python",
      "name": "python3"
    },
    "language_info": {
      "codemirror_mode": {
        "name": "ipython",
        "version": 3
      },
      "file_extension": ".py",
      "mimetype": "text/x-python",
      "name": "python",
      "nbconvert_exporter": "python",
      "pygments_lexer": "ipython3",
      "version": "3.8.2"
    }
  },
  "nbformat": 4,
  "nbformat_minor": 0
}
