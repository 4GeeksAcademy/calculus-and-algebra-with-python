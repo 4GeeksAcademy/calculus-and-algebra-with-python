{
  "cells": [
    {
      "cell_type": "markdown",
      "metadata": {
        "id": "y36nuoCplKRM"
      },
      "source": [
        "### Mean and Standard Deviation\n",
        "\n",
        "$$\\text{mean} = \\mu = \\frac{1}{n}\\sum_{i = 1}^n x_i$$\n",
        "\n",
        "$$\\text{standard deviation} = \\sigma = \\sqrt{\\frac{1}{n}\\sum_{i = 1}^n (x_i - \\mu)^2}$$"
      ]
    },
    {
      "cell_type": "code",
      "execution_count": null,
      "metadata": {
        "colab": {
          "base_uri": "https://localhost:8080/"
        },
        "id": "_W3B7Lg0lKDS",
        "outputId": "7211b8a4-bce0-4ec2-caa7-0667237ce146"
      },
      "outputs": [
        {
          "data": {
            "text/plain": [
              "7.0"
            ]
          },
          "execution_count": 36,
          "metadata": {
            "tags": []
          },
          "output_type": "execute_result"
        }
      ],
      "source": [
        "# Mean of a list\n",
        "x = [3, 5, 7, 9, 11]\n",
        "np.mean(x)"
      ]
    },
    {
      "cell_type": "code",
      "execution_count": null,
      "metadata": {
        "colab": {
          "base_uri": "https://localhost:8080/"
        },
        "id": "F0H2cUZxlJ-i",
        "outputId": "f824b2f6-0889-48a2-f579-6c6577f11fd9"
      },
      "outputs": [
        {
          "data": {
            "text/plain": [
              "2.8284271247461903"
            ]
          },
          "execution_count": 37,
          "metadata": {
            "tags": []
          },
          "output_type": "execute_result"
        }
      ],
      "source": [
        "# Standard deviation of list\n",
        "np.std(x)"
      ]
    },
    {
      "cell_type": "code",
      "execution_count": null,
      "metadata": {
        "id": "1QLD9HNXlJ4O"
      },
      "outputs": [],
      "source": [
        "# Binomial distribution with n = 20, p = 0.5\n",
        "b = stats.binom(20, 0.5)"
      ]
    },
    {
      "cell_type": "code",
      "execution_count": null,
      "metadata": {
        "colab": {
          "base_uri": "https://localhost:8080/"
        },
        "id": "N5Wt76YylJ1P",
        "outputId": "583d959e-69a8-4b38-afe3-844e4ec15735"
      },
      "outputs": [
        {
          "data": {
            "text/plain": [
              "10.0"
            ]
          },
          "execution_count": 39,
          "metadata": {
            "tags": []
          },
          "output_type": "execute_result"
        }
      ],
      "source": [
        "# Mean\n",
        "b.mean()"
      ]
    },
    {
      "cell_type": "code",
      "execution_count": null,
      "metadata": {
        "colab": {
          "base_uri": "https://localhost:8080/",
          "height": 283
        },
        "id": "PqPK-Ow1lJyD",
        "outputId": "31eaed44-08dc-4d58-da2d-844895d3ec5f"
      },
      "outputs": [
        {
          "data": {
            "text/plain": [
              "<BarContainer object of 21 artists>"
            ]
          },
          "execution_count": 40,
          "metadata": {
            "tags": []
          },
          "output_type": "execute_result"
        },
        {
          "data": {
            "image/png": "[encoded data removed]",
            "text/plain": [
              "<Figure size 432x288 with 1 Axes>"
            ]
          },
          "metadata": {
            "needs_background": "light",
            "tags": []
          },
          "output_type": "display_data"
        }
      ],
      "source": [
        "# Plot\n",
        "plt.bar(range(21), b.pmf(range(21)))"
      ]
    },
    {
      "cell_type": "code",
      "execution_count": null,
      "metadata": {
        "id": "a8KU1n9Mlg6J"
      },
      "outputs": [],
      "source": [
        "# Another example\n",
        "# Binomial n = 50, p = 0.3\n",
        "ex2 = stats.binom(50, 0.3)\n",
        "ex3 = stats.binom(20, 0.3)"
      ]
    },
    {
      "cell_type": "code",
      "execution_count": null,
      "metadata": {
        "colab": {
          "base_uri": "https://localhost:8080/"
        },
        "id": "jgo80blnmWfR",
        "outputId": "6a68e841-da08-4326-a4dc-9ab7a58abd40"
      },
      "outputs": [
        {
          "data": {
            "text/plain": [
              "15.0"
            ]
          },
          "execution_count": 46,
          "metadata": {
            "tags": []
          },
          "output_type": "execute_result"
        }
      ],
      "source": [
        "# Mean\n",
        "ex2.mean()"
      ]
    },
    {
      "cell_type": "code",
      "execution_count": null,
      "metadata": {
        "colab": {
          "base_uri": "https://localhost:8080/"
        },
        "id": "U-ByFeFyuY8E",
        "outputId": "2f9fc86c-f183-47c4-edad-3bdd2f876020"
      },
      "outputs": [
        {
          "data": {
            "text/plain": [
              "6.0"
            ]
          },
          "execution_count": 47,
          "metadata": {
            "tags": []
          },
          "output_type": "execute_result"
        }
      ],
      "source": [
        "ex3.mean()"
      ]
    },
    {
      "cell_type": "code",
      "execution_count": null,
      "metadata": {
        "colab": {
          "base_uri": "https://localhost:8080/"
        },
        "id": "bfy3I2xeubzP",
        "outputId": "811354f1-cedb-455e-a7ae-3131df8f9a2f"
      },
      "outputs": [
        {
          "data": {
            "text/plain": [
              "2.0493901531919194"
            ]
          },
          "execution_count": 48,
          "metadata": {
            "tags": []
          },
          "output_type": "execute_result"
        }
      ],
      "source": [
        "ex3.std()"
      ]
    },
    {
      "cell_type": "code",
      "execution_count": null,
      "metadata": {
        "colab": {
          "base_uri": "https://localhost:8080/"
        },
        "id": "9tA96xDxmWZH",
        "outputId": "fae5fdae-400c-40ec-cc5b-0b9e4a452ec7"
      },
      "outputs": [
        {
          "data": {
            "text/plain": [
              "3.24037034920393"
            ]
          },
          "execution_count": 43,
          "metadata": {
            "tags": []
          },
          "output_type": "execute_result"
        }
      ],
      "source": [
        "# Deviation\n",
        "ex2.std()"
      ]
    },
    {
      "cell_type": "code",
      "execution_count": null,
      "metadata": {
        "colab": {
          "base_uri": "https://localhost:8080/",
          "height": 285
        },
        "id": "xWSDRiBpmZlP",
        "outputId": "98c424bb-e3fc-4192-9598-13e41ef6af7e"
      },
      "outputs": [
        {
          "data": {
            "text/plain": [
              "<BarContainer object of 21 artists>"
            ]
          },
          "execution_count": 49,
          "metadata": {
            "tags": []
          },
          "output_type": "execute_result"
        },
        {
          "data": {
            "image/png": "[encoded data removed]",
            "text/plain": [
              "<Figure size 432x288 with 1 Axes>"
            ]
          },
          "metadata": {
            "needs_background": "light",
            "tags": []
          },
          "output_type": "display_data"
        }
      ],
      "source": [
        "# Plot\n",
        "plt.bar(range(51), ex2.pmf(range(51)))\n",
        "plt.bar(range(21), ex3.pmf(range(21)))"
      ]
    }
  ],
  "metadata": {
    "colab": {
      "name": "calc_distribution_review.ipynb",
      "provenance": []
    },
    "kernelspec": {
      "display_name": "Python 3",
      "name": "python3"
    }
  },
  "nbformat": 4,
  "nbformat_minor": 0
}
